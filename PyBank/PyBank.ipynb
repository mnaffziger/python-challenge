{
 "cells": [
  {
   "cell_type": "code",
   "execution_count": 1,
   "id": "8130377c",
   "metadata": {},
   "outputs": [],
   "source": [
    "#Dependancies\n",
    "import os\n",
    "import csv"
   ]
  },
  {
   "cell_type": "code",
   "execution_count": 3,
   "id": "e7242d4d",
   "metadata": {},
   "outputs": [
    {
     "name": "stdout",
     "output_type": "stream",
     "text": [
      "/Users/michaelnaffziger/Desktop/Homework UO Bootcamp/python-challenge/PyBank/Resources/budget_data.csv\n",
      "/Users/michaelnaffziger/Desktop/Homework UO Bootcamp/python-challenge/PyBank/Output/Pybank_calcs.txt\n"
     ]
    }
   ],
   "source": [
    "pybank_path=os.path.join(os.getcwd(),'Resources','budget_data.csv')\n",
    "print(pybank_path)\n",
    "if not os.path.exists(\"Output\"): # check to see if dir exists: https://www.tutorialspoint.com/How-can-I-create-a-directory-if-it-does-not-exist-using-Python\n",
    "    os.mkdir('Output')\n",
    "pybank_out_path=os.path.join(os.getcwd(),'Output','Pybank_calcs.txt')\n",
    "print(pybank_out_path)"
   ]
  },
  {
   "cell_type": "code",
   "execution_count": 5,
   "id": "4ddc5388",
   "metadata": {},
   "outputs": [
    {
     "name": "stdout",
     "output_type": "stream",
     "text": [
      "Financial Analysis\n",
      "-------------------------------\n",
      "Total Months: 86\n",
      "Total: $22564198\n",
      "Average Change: $-8311.105882352942\n",
      "Greatest Increase in Profits: Aug-16 ($1862002)\n",
      "Greastest Decrease in Profits: Feb-14 ($-1825558)\n",
      "\n"
     ]
    }
   ],
   "source": [
    "#Initialize variables\n",
    "months=0\n",
    "total=0\n",
    "profit_change=[] \n",
    "month_change=[]   \n",
    "largest_increase=[\"\",0]\n",
    "largest_decrease=[\"\",9999999999999999999999]   \n",
    "#change=0\n",
    "\n",
    "#open original data as read only file\n",
    "with open(pybank_path,'r') as pybank_in:\n",
    "    pybank_in=csv.reader(pybank_in, delimiter=\",\")\n",
    "\n",
    "    #Generate original header list\n",
    "    headers=next(pybank_in) #skip headers\n",
    "    tot_header=headers.index('Profit/Losses') #Locates Profit/Losses column index\n",
    "\n",
    "    first_data=next(pybank_in)\n",
    "    months+=1 #aka row count\n",
    "    total+=int(first_data[tot_header])\n",
    "    previous_row=int(first_data[tot_header])\n",
    "    \n",
    "    for row in pybank_in:   \n",
    "        months+=1\n",
    "        total+=int(row[tot_header])\n",
    "\n",
    "        #profit changes\n",
    "        change=int(row[1])-previous_row\n",
    "        previous_row=int(row[1])\n",
    "        profit_change+=[change]\n",
    "        month_change+=[row[0]]\n",
    "\n",
    "        #find greatest increase\n",
    "        if change>largest_increase[1]:\n",
    "                largest_increase[0]=row[0]\n",
    "                largest_increase[1]=change\n",
    "\n",
    "        #find greatest decrease\n",
    "        if change<largest_decrease[1]:\n",
    "             largest_decrease[0]=row[0]\n",
    "             largest_decrease[1]=change\n",
    "\n",
    "ave_change=sum(profit_change)/len(profit_change)\n",
    "\n",
    "summary =(\n",
    "        f\"Financial Analysis\\n\"\n",
    "        f\"-------------------------------\\n\"\n",
    "        f\"Total Months: {months}\\n\"\n",
    "        f\"Total: ${total}\\n\"\n",
    "        f\"Average Change: ${ave_change}\\n\"\n",
    "        f\"Greatest Increase in Profits: {largest_increase[0]} (${largest_increase[1]})\\n\"\n",
    "        f\"Greastest Decrease in Profits: {largest_decrease[0]} (${largest_decrease[1]})\\n\"\n",
    ")\n",
    "\n",
    "print(summary)\n",
    "\n",
    "#write txt file\n",
    "with open(pybank_out_path,\"w\") as txt_file:\n",
    "    txt_file.write(summary)\n",
    "\n",
    "    \n",
    "    \n",
    "    \n",
    "    \n",
    "  "
   ]
  },
  {
   "cell_type": "code",
   "execution_count": 108,
   "id": "6f910b9e",
   "metadata": {},
   "outputs": [],
   "source": [
    "report=[\"months\",\"total\",\"ave_change\",\"max_date\",\"max_profit\",\"min_date\",\"min_profit\"]"
   ]
  },
  {
   "cell_type": "code",
   "execution_count": null,
   "id": "539d415e",
   "metadata": {},
   "outputs": [],
   "source": []
  }
 ],
 "metadata": {
  "kernelspec": {
   "display_name": "Python 3 (ipykernel)",
   "language": "python",
   "name": "python3"
  },
  "language_info": {
   "codemirror_mode": {
    "name": "ipython",
    "version": 3
   },
   "file_extension": ".py",
   "mimetype": "text/x-python",
   "name": "python",
   "nbconvert_exporter": "python",
   "pygments_lexer": "ipython3",
   "version": "3.10.10"
  }
 },
 "nbformat": 4,
 "nbformat_minor": 5
}
