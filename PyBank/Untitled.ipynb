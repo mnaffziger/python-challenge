{
 "cells": [
  {
   "cell_type": "code",
   "execution_count": 132,
   "id": "8130377c",
   "metadata": {},
   "outputs": [],
   "source": [
    "import os\n",
    "import csv"
   ]
  },
  {
   "cell_type": "code",
   "execution_count": 133,
   "id": "e7242d4d",
   "metadata": {},
   "outputs": [
    {
     "name": "stdout",
     "output_type": "stream",
     "text": [
      "/Users/michaelnaffziger/Desktop/Homework UO Bootcamp/python-challenge/PyBank/Resources/budget_data.csv\n",
      "/Users/michaelnaffziger/Desktop/Homework UO Bootcamp/python-challenge/PyBank/Output/Pybank_calcs.csv\n"
     ]
    }
   ],
   "source": [
    "pybank_path=os.path.join(os.getcwd(),'Resources','budget_data.csv')\n",
    "print(pybank_path)\n",
    "os.mkdir('Output')\n",
    "pybank_out_path=os.path.join(os.getcwd(),'Output','Pybank_calcs.csv')\n",
    "print(pybank_out_path)"
   ]
  },
  {
   "cell_type": "code",
   "execution_count": 140,
   "id": "4ddc5388",
   "metadata": {},
   "outputs": [
    {
     "name": "stdout",
     "output_type": "stream",
     "text": [
      "Total = 22564198.0\n",
      "Total Months: 86\n",
      "{'MONTHS': 86, 'TOTAL': 22564198.0, 'AVE_CHANGE': 'ave_change', 'MAX_DATE': 'max_date', 'MAX_PROFIT': 'max_profit', 'MIN_DATE': 'min_date', 'MIN_PROFIT': 'min_profit'}\n"
     ]
    }
   ],
   "source": [
    "\n",
    "#open original data as read only file\n",
    "with open(pybank_path,'r') as pybank_in:\n",
    "    pybank_in=csv.reader(pybank_in, delimiter=\",\")\n",
    "    \n",
    "    #create a working csv file to base calculations on without potential data corruption of original\n",
    "    with open(pybank_out_path,'w') as pybank_out:\n",
    "        pybank_write = csv.writer(pybank_out)\n",
    "        \n",
    "        report={\"MONTHS\":\"months\",\n",
    "                \"TOTAL\":\"total\",\n",
    "                \"AVE_CHANGE\":\"ave_change\",\n",
    "                \"MAX_DATE\":\"max_date\",\n",
    "                \"MAX_PROFIT\":\"max_profit\",\n",
    "                \"MIN_DATE\":\"min_date\",\n",
    "                \"MIN_PROFIT\":\"min_profit\"}\n",
    "        \n",
    "        headers=next(pybank_in) #skip headers\n",
    "        \n",
    "        headers.append('Change') #add new header\n",
    "        pybank_write.writerow(headers) #write headers to new csv file\n",
    "        tot_header=headers.index('Profit/Losses') #Locates Profit/Losses column index\n",
    "    \n",
    "        \n",
    "        #Initialize variables\n",
    "        months=0\n",
    "        total=0\n",
    "        profit_change=[]\n",
    "        \n",
    "        change=0\n",
    "\n",
    "        #Start working/analyzing original csv file\n",
    "        for row in pybank_in:\n",
    "        \n",
    "            months+=1 #aka row count\n",
    "            \n",
    "            total+=float(row[tot_header])\n",
    "        \n",
    "        report[\"MONTHS\"]=months\n",
    "        report[\"TOTAL\"]=total\n",
    "        print(f\"Total = {total}\")\n",
    "    \n",
    "        print(f\"Total Months: {months}\")\n",
    "        \n",
    "        print(report)\n",
    "    \n",
    "    \n"
   ]
  },
  {
   "cell_type": "code",
   "execution_count": 108,
   "id": "6f910b9e",
   "metadata": {},
   "outputs": [],
   "source": [
    "report=[\"months\",\"total\",\"ave_change\",\"max_date\",\"max_profit\",\"min_date\",\"min_profit\"]"
   ]
  },
  {
   "cell_type": "code",
   "execution_count": null,
   "id": "539d415e",
   "metadata": {},
   "outputs": [],
   "source": []
  }
 ],
 "metadata": {
  "kernelspec": {
   "display_name": "Python 3 (ipykernel)",
   "language": "python",
   "name": "python3"
  },
  "language_info": {
   "codemirror_mode": {
    "name": "ipython",
    "version": 3
   },
   "file_extension": ".py",
   "mimetype": "text/x-python",
   "name": "python",
   "nbconvert_exporter": "python",
   "pygments_lexer": "ipython3",
   "version": "3.10.10"
  }
 },
 "nbformat": 4,
 "nbformat_minor": 5
}
